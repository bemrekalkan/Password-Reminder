{
 "cells": [
  {
   "cell_type": "markdown",
   "metadata": {},
   "source": [
    "Task : Let's say; you left a message in the past that prints a password you need. To see the password you wrote, you need to enter your name and the program should recognize you.\n",
    "Write a program that \n",
    "\n",
    "Takes the first name from the user and compares it to yours,\n",
    "Then if the name the user entered is the same as yours, print out such as : \"Hello, Joseph! The password is : W@12\",\n",
    "If the name the user entered is not the same as yours, print out such as : \"Hello, Amina! See you later.\""
   ]
  },
  {
   "cell_type": "code",
   "execution_count": 4,
   "metadata": {},
   "outputs": [
    {
     "name": "stdout",
     "output_type": "stream",
     "text": [
      "Hello, Emre! The password is: W@12\n"
     ]
    }
   ],
   "source": [
    "name=\"Emre\"\n",
    "password=\"W@12\"\n",
    "user=input(\"Please enter your name: \")\n",
    "if user == name:\n",
    "    print(\"Hello, {}! The password is: {}\".format(user,password))\n",
    "elif user != name:\n",
    "    print(\"Hello, {}! See you later.\".format(user))"
   ]
  }
 ],
 "metadata": {
  "interpreter": {
   "hash": "01732e918f17bd12171580b144af41e3f65d718dea900fe1536c830cda6ab0c8"
  },
  "kernelspec": {
   "display_name": "Python 3.10.2 64-bit",
   "language": "python",
   "name": "python3"
  },
  "language_info": {
   "codemirror_mode": {
    "name": "ipython",
    "version": 3
   },
   "file_extension": ".py",
   "mimetype": "text/x-python",
   "name": "python",
   "nbconvert_exporter": "python",
   "pygments_lexer": "ipython3",
   "version": "3.10.2"
  },
  "orig_nbformat": 4
 },
 "nbformat": 4,
 "nbformat_minor": 2
}
